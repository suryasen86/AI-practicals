{
 "cells": [
  {
   "cell_type": "markdown",
   "metadata": {},
   "source": [
    "### Practical 1"
   ]
  },
  {
   "cell_type": "markdown",
   "metadata": {},
   "source": []
  },
  {
   "cell_type": "markdown",
   "metadata": {},
   "source": [
    "## 1a) Breadth Frist Search :"
   ]
  },
  {
   "cell_type": "code",
   "execution_count": 29,
   "metadata": {},
   "outputs": [],
   "source": [
    "from queue import Queue\n",
    "from IPython.core.display import Image,display"
   ]
  },
  {
   "cell_type": "code",
   "execution_count": 73,
   "metadata": {},
   "outputs": [],
   "source": [
    "adj_list={\n",
    "    \"A\":[\"B\",\"D\"],\n",
    "    \"B\":[\"A\",\"C\"],\n",
    "    \"C\":[\"B\"],\n",
    "    \"D\":[\"A\",\"E\",\"F\"],\n",
    "    \"E\":[\"D\",\"F\",\"G\"],\n",
    "    \"F\":[\"D\",\"E\",\"H\"],\n",
    "    \"H\":[\"G\",\"F\"],\n",
    "    \"G\":[\"E\",\"F\"]\n",
    "    }"
   ]
  },
  {
   "cell_type": "code",
   "execution_count": 74,
   "metadata": {},
   "outputs": [
    {
     "name": "stdout",
     "output_type": "stream",
     "text": [
      "['A', 'B', 'D', 'C', 'E', 'F', 'G', 'H']\n"
     ]
    }
   ],
   "source": [
    "# bsf \n",
    "visited={}\n",
    "level={}\n",
    "parent={}\n",
    "bfs_travel_output=[]\n",
    "queue= Queue()\n",
    "def bsf(source_node):\n",
    "    for node in adj_list.keys():\n",
    "        visited[node]=False\n",
    "        parent[node]=None\n",
    "        level[node]=-1\n",
    "\n",
    "\n",
    "\n",
    "    \n",
    "    visited[source_node]=True\n",
    "    level[source_node]=0\n",
    "    queue.put(source_node)\n",
    "    while not queue.empty():\n",
    "        u=queue.get()\n",
    "        bfs_travel_output.append(u)\n",
    "        for v in adj_list[u]:\n",
    "            if not visited[v]:\n",
    "                visited[v]=True\n",
    "                parent[v]=u\n",
    "                level[v]=level[u]+1\n",
    "                queue.put(v)\n",
    "\n",
    "    print(bfs_travel_output)\n",
    "\n",
    "bsf(\"A\")"
   ]
  },
  {
   "cell_type": "code",
   "execution_count": 75,
   "metadata": {},
   "outputs": [
    {
     "name": "stdout",
     "output_type": "stream",
     "text": [
      "['A', 'D', 'E', 'G']\n"
     ]
    }
   ],
   "source": [
    "#finding shortest path of node  in graph from source node\n",
    "finding_nearest_path_for=\"G\"\n",
    "path =[]\n",
    "while finding_nearest_path_for is not None:\n",
    "    path.append(finding_nearest_path_for)\n",
    "    finding_nearest_path_for=parent[finding_nearest_path_for]\n",
    "path.reverse()\n",
    "print(path)\n",
    " "
   ]
  },
  {
   "cell_type": "markdown",
   "metadata": {},
   "source": [
    "#### the Shortest Path from A to G is  \n",
    "A->D->E->G"
   ]
  },
  {
   "cell_type": "markdown",
   "metadata": {},
   "source": [
    "# 1b) Depth frist Search\n",
    "\n",
    "\n"
   ]
  },
  {
   "cell_type": "markdown",
   "metadata": {},
   "source": []
  },
  {
   "cell_type": "code",
   "execution_count": 82,
   "metadata": {},
   "outputs": [],
   "source": [
    "graph={\n",
    "    \"A\":[\"B\",\"C\",\"D\"],\n",
    "    \"B\":[\"A\",\"E\",\"D\"],\n",
    "    \"C\":[\"A\",\"D\"],\n",
    "    \"D\":[\"A\",\"B\",\"C\",\"E\"],\n",
    "    \"E\":[\"B\",\"D\"]\n",
    "}"
   ]
  },
  {
   "cell_type": "code",
   "execution_count": 84,
   "metadata": {},
   "outputs": [
    {
     "name": "stdout",
     "output_type": "stream",
     "text": [
      "A\n",
      "B\n",
      "E\n",
      "D\n",
      "C\n"
     ]
    }
   ],
   "source": [
    "def DFS(node,visited,graph):\n",
    "    if node not in visited:\n",
    "        print(node)\n",
    "        visited.add(node)\n",
    "        for i in graph[node]:\n",
    "            DFS(i,visited,graph)\n",
    "\n",
    "visited=set()\n",
    "DFS(\"A\",visited,graph)"
   ]
  },
  {
   "cell_type": "code",
   "execution_count": null,
   "metadata": {},
   "outputs": [],
   "source": []
  }
 ],
 "metadata": {
  "kernelspec": {
   "display_name": "Python 3 (ipykernel)",
   "language": "python",
   "name": "python3"
  },
  "language_info": {
   "codemirror_mode": {
    "name": "ipython",
    "version": 3
   },
   "file_extension": ".py",
   "mimetype": "text/x-python",
   "name": "python",
   "nbconvert_exporter": "python",
   "pygments_lexer": "ipython3",
   "version": "3.9.7"
  },
  "vscode": {
   "interpreter": {
    "hash": "0b054940c50bd14c276ae3777ae9f40a9fe97321ded79547b467e57777e0f284"
   }
  }
 },
 "nbformat": 4,
 "nbformat_minor": 2
}
