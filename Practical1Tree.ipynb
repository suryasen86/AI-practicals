{
 "cells": [
  {
   "cell_type": "markdown",
   "metadata": {},
   "source": [
    "# Practical 1"
   ]
  },
  {
   "cell_type": "markdown",
   "metadata": {},
   "source": [
    "### BFS Traverse with Recursive approch"
   ]
  },
  {
   "cell_type": "code",
   "execution_count": 21,
   "metadata": {},
   "outputs": [
    {
     "data": {
      "text/html": [
       "<img src=\"./images/Practical1tree.jpeg\"/>"
      ],
      "text/plain": [
       "<IPython.core.display.Image object>"
      ]
     },
     "metadata": {},
     "output_type": "display_data"
    }
   ],
   "source": [
    "from IPython.core.display import Image,display\n",
    "display(Image(url=\"./images/Practical1tree.jpeg\"))\n"
   ]
  },
  {
   "cell_type": "code",
   "execution_count": 22,
   "metadata": {},
   "outputs": [],
   "source": [
    "class TreeNode:\n",
    "    def __init__(self,data):\n",
    "        self.data=data\n",
    " \n",
    "        self.children=[]\n",
    "        self.parent=None\n",
    "    def add_child(self,child):\n",
    "        child.parent=self\n",
    "        self.children.append(child)\n",
    "    def get_levels(self):\n",
    "        level=0\n",
    "        p=self.parent\n",
    "        while p:\n",
    "            level +=1\n",
    "            p=p.parent\n",
    "        return level\n",
    "    def print_tree(self, level):\n",
    "        if self.get_levels() > level:\n",
    "            return\n",
    "        spaces = ' ' * self.get_levels() * 3\n",
    "        prefix = spaces + \"|__\" if self.parent else \"\"\n",
    "        print(prefix + self.data)\n",
    "        if self.children:\n",
    "            for child in self.children:\n",
    "                child.print_tree(level)\n"
   ]
  },
  {
   "cell_type": "code",
   "execution_count": 23,
   "metadata": {},
   "outputs": [],
   "source": [
    "def create_product_tree():\n",
    "    root=TreeNode('1')\n",
    "    node2=TreeNode('2')\n",
    "    node3=TreeNode('3')\n",
    "    node4=TreeNode('4')\n",
    "    node5=TreeNode('5')\n",
    "    node6=TreeNode('6')\n",
    "    node7=TreeNode('7')\n",
    "    node8=TreeNode('8')\n",
    "    node9=TreeNode('9')\n",
    "    node10=TreeNode('10')\n",
    "    node5.add_child(node9)\n",
    "    node2.add_child(node5)\n",
    "    root.add_child(node2)\n",
    "    node7.add_child(node10)\n",
    "    node3.add_child(node6)\n",
    "    node3.add_child(node7)\n",
    "    root.add_child(node3)\n",
    "    node4.add_child(node8)\n",
    "    root.add_child(node4)\n",
    " \n",
    "    return root"
   ]
  },
  {
   "cell_type": "code",
   "execution_count": 18,
   "metadata": {},
   "outputs": [],
   "source": [
    "root=create_product_tree()"
   ]
  },
  {
   "cell_type": "code",
   "execution_count": 24,
   "metadata": {},
   "outputs": [
    {
     "data": {
      "text/html": [
       "<img src=\"./images/Practical1tree.jpeg\"/>"
      ],
      "text/plain": [
       "<IPython.core.display.Image object>"
      ]
     },
     "metadata": {},
     "output_type": "display_data"
    },
    {
     "name": "stdout",
     "output_type": "stream",
     "text": [
      "1\n",
      "   |__2\n",
      "      |__5\n",
      "         |__9\n",
      "   |__3\n",
      "      |__6\n",
      "      |__7\n",
      "         |__10\n",
      "   |__4\n",
      "      |__8\n"
     ]
    }
   ],
   "source": [
    "display(Image(url=\"./images/Practical1tree.jpeg\"))\n",
    "root.print_tree(5)"
   ]
  },
  {
   "cell_type": "markdown",
   "metadata": {},
   "source": [
    "### DFS Traverse "
   ]
  },
  {
   "cell_type": "code",
   "execution_count": 31,
   "metadata": {},
   "outputs": [
    {
     "data": {
      "text/html": [
       "<img src=\"./images/tree12.gif\"/>"
      ],
      "text/plain": [
       "<IPython.core.display.Image object>"
      ]
     },
     "metadata": {},
     "output_type": "display_data"
    }
   ],
   "source": [
    "display(Image(url=\"./images/tree12.gif\"))\n",
    "\n",
    "class Node:\n",
    "    def __init__(self, key):\n",
    "        self.left = None\n",
    "        self.right = None\n",
    "        self.val = key\n",
    " \n",
    " "
   ]
  },
  {
   "cell_type": "code",
   "execution_count": 29,
   "metadata": {},
   "outputs": [],
   "source": [
    " \n",
    "def printInorder(root):\n",
    "    if root:\n",
    "        printInorder(root.left)\n",
    "        print(root.val),\n",
    "        printInorder(root.right)\n",
    "         "
   ]
  },
  {
   "cell_type": "code",
   "execution_count": 33,
   "metadata": {},
   "outputs": [
    {
     "name": "stdout",
     "output_type": "stream",
     "text": [
      "Inorder DFS traversal of binary tree is:\n",
      "4\n",
      "2\n",
      "5\n",
      "1\n",
      "3\n"
     ]
    }
   ],
   "source": [
    "# Driver code\n",
    "root = Node(1)\n",
    "root.left = Node(2)\n",
    "root.right = Node(3)\n",
    "root.left.left = Node(4)\n",
    "root.left.right = Node(5)\n",
    " \n",
    "print(\"Inorder DFS traversal of binary tree is:\")\n",
    "printInorder(root)"
   ]
  },
  {
   "cell_type": "code",
   "execution_count": null,
   "metadata": {},
   "outputs": [],
   "source": []
  }
 ],
 "metadata": {
  "kernelspec": {
   "display_name": "Python 3.9.7 ('base')",
   "language": "python",
   "name": "python3"
  },
  "language_info": {
   "codemirror_mode": {
    "name": "ipython",
    "version": 3
   },
   "file_extension": ".py",
   "mimetype": "text/x-python",
   "name": "python",
   "nbconvert_exporter": "python",
   "pygments_lexer": "ipython3",
   "version": "3.9.7"
  },
  "orig_nbformat": 4,
  "vscode": {
   "interpreter": {
    "hash": "0b054940c50bd14c276ae3777ae9f40a9fe97321ded79547b467e57777e0f284"
   }
  }
 },
 "nbformat": 4,
 "nbformat_minor": 2
}
