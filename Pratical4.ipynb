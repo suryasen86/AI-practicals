{
 "cells": [
  {
   "cell_type": "code",
   "execution_count": 6,
   "metadata": {},
   "outputs": [],
   "source": [
    "\n",
    "\n",
    "import pgmpy\n",
    "import numpy as np\n",
    "import pandas as pd\n",
    "import urllib\n",
    "from urllib.request import urlopen\n",
    "from pgmpy.inference import VariableElimination\n",
    "from pgmpy.models import BayesianModel\n",
    "from pgmpy.estimators import MaximumLikelihoodEstimator,BayesianEstimator\n",
    "import io"
   ]
  },
  {
   "cell_type": "code",
   "execution_count": 7,
   "metadata": {},
   "outputs": [
    {
     "name": "stderr",
     "output_type": "stream",
     "text": [
      "/Library/Frameworks/Python.framework/Versions/3.10/lib/python3.10/site-packages/pgmpy/models/BayesianModel.py:8: FutureWarning: BayesianModel has been renamed to BayesianNetwork. Please use BayesianNetwork class, BayesianModel will be removed in future.\n",
      "  warnings.warn(\n",
      "/Library/Frameworks/Python.framework/Versions/3.10/lib/python3.10/site-packages/pgmpy/factors/discrete/DiscreteFactor.py:540: UserWarning: Found unknown state name. Trying to switch to using all state names as state numbers\n",
      "  warnings.warn(\n",
      "Finding Elimination Order: : 100%|██████████| 3/3 [00:00<00:00, 8744.21it/s]\n",
      "Eliminating: exang: 100%|██████████| 3/3 [00:00<00:00, 3167.90it/s]"
     ]
    },
    {
     "name": "stdout",
     "output_type": "stream",
     "text": [
      "+----------------------+---------------------+\n",
      "| heartdisease         |   phi(heartdisease) |\n",
      "+======================+=====================+\n",
      "| heartdisease(0)      |              0.4201 |\n",
      "+----------------------+---------------------+\n",
      "| heartdisease(1)      |              0.5219 |\n",
      "+----------------------+---------------------+\n",
      "| heartdisease(target) |              0.0580 |\n",
      "+----------------------+---------------------+\n"
     ]
    },
    {
     "name": "stderr",
     "output_type": "stream",
     "text": [
      "\n"
     ]
    }
   ],
   "source": [
    "names = ['age', 'sex', 'cp', 'trestbps', 'chol', 'fbs', 'restecg', 'thalach', 'exang', 'oldpeak', 'slope', 'ca',\n",
    "'thal', 'heartdisease']\n",
    "heartDisease = pd.read_csv('./detasets/heart.csv',names = names)\n",
    "heartDisease = heartDisease.replace('?', np.nan)\n",
    " \n",
    " \n",
    "model = BayesianModel([('age', 'trestbps'), ('age', 'fbs'), ('sex', 'trestbps'), ('exang',\n",
    "'trestbps'),('trestbps','heartdisease'),('fbs','heartdisease'),('heartdisease','restecg'),\n",
    "('heartdisease','thalach'), ('heartdisease','chol')])\n",
    "model.fit(heartDisease, estimator=MaximumLikelihoodEstimator)\n",
    "from pgmpy.inference import VariableElimination\n",
    "HeartDisease_infer = VariableElimination(model)\n",
    "q = HeartDisease_infer.query(variables=['heartdisease'], evidence={'age': 37, 'sex' :0})\n",
    "print(q)"
   ]
  },
  {
   "cell_type": "code",
   "execution_count": null,
   "metadata": {},
   "outputs": [],
   "source": []
  }
 ],
 "metadata": {
  "kernelspec": {
   "display_name": "Python 3.10.6 64-bit",
   "language": "python",
   "name": "python3"
  },
  "language_info": {
   "codemirror_mode": {
    "name": "ipython",
    "version": 3
   },
   "file_extension": ".py",
   "mimetype": "text/x-python",
   "name": "python",
   "nbconvert_exporter": "python",
   "pygments_lexer": "ipython3",
   "version": "3.10.6"
  },
  "orig_nbformat": 4,
  "vscode": {
   "interpreter": {
    "hash": "aee8b7b246df8f9039afb4144a1f6fd8d2ca17a180786b69acc140d282b71a49"
   }
  }
 },
 "nbformat": 4,
 "nbformat_minor": 2
}
