{
 "cells": [
  {
   "cell_type": "code",
   "execution_count": 14,
   "metadata": {},
   "outputs": [],
   "source": [
    "class Node:\n",
    "  \"\"\"A simple node \"\"\"\n",
    "  def __declare_instance_variables(this) -> None:\n",
    "    this.parent: Node = None\n",
    "    this.root: Node = None\n",
    "    this.__children: list = []\n",
    "  def __init__(this, child = None, children: list = None, value: float = None, tag: str = None):\n",
    "    \"\"\"child: Node, children: List[Node]\"\"\"\n",
    "    this.__declare_instance_variables()\n",
    "    this.tag = tag\n",
    "    this.value = value\n",
    "    if (child != None):\n",
    "      this.add(child)\n",
    "    if (children != None):\n",
    "      this.add_children(children)\n",
    "\n",
    "  def get_neighbors(this) -> list:\n",
    "    \"\"\"Returns the neighbor nodes\"\"\"\n",
    "    if this.parent == None:\n",
    "      return [this]\n",
    "    children = this.parent.get_children()\n",
    "    if children == None:\n",
    "      return []\n",
    "    return children\n",
    "  \n",
    "  def get_first(this):\n",
    "    \"\"\"Returns the first children of this node\"\"\"\n",
    "    if (this.is_empty): return None\n",
    "    return this.__children[0]\n",
    "\n",
    "  def is_root(this) -> bool:\n",
    "    return this.parent == None\n",
    "\n",
    "  def is_leaf(this) -> bool:\n",
    "    if (this.__children == None): return True\n",
    "    return this.is_empty() \n",
    "\n",
    "  def is_inner(this) -> bool:\n",
    "    return not (this.is_leaf() or this.is_root())\n",
    "\n",
    "  def get_children(this) -> list:\n",
    "    return this.__children\n",
    "\n",
    "  def get_root(this):\n",
    "    \"\"\"Returns -> Node\"\"\"\n",
    "    if (this.is_root()):\n",
    "      return this\n",
    "    else:\n",
    "      return this.parent.root\n",
    "\n",
    "  def get_height(this) -> int:\n",
    "    if (this.is_empty()):\n",
    "      return 0\n",
    "    maxHeight: int = 0\n",
    "    children: list = this.get_children()\n",
    "    for element in children:\n",
    "      height: int = element.get_height()\n",
    "      if (height > maxHeight):\n",
    "        maxHeight = height\n",
    "    return maxHeight + 1\n",
    "\n",
    "  def get_depth(this) -> int:\n",
    "    if (this.is_root()):\n",
    "      return 0\n",
    "    return this.parent.get_depth() + 1\n",
    "\n",
    "  def is_empty(this) -> bool:\n",
    "    return len(this.__children) == 0\n",
    "\n",
    "  def is_not_empty(this) -> bool:\n",
    "    return not this.is_empty()\n",
    "\n",
    "  def add(this, child) -> None:\n",
    "    \"\"\"child: Node\"\"\"\n",
    "    assert child != None\n",
    "    if (this.__children == None):\n",
    "      this.__children = []\n",
    "    child.parent = this\n",
    "    child.root = this.get_root()\n",
    "    this.__children.append(child)\n",
    "\n",
    "  def add_children(this, children: list) -> None:\n",
    "    assert children != None\n",
    "    if (len(children) == 0):\n",
    "      return\n",
    "    if (this.__children == None):\n",
    "      this.__children = []\n",
    "    for element in children:\n",
    "      element.parent = this\n",
    "      element.root = this.get_root()\n",
    "      this.__children.append(element)\n",
    "\n",
    "  def __len__(this) -> int:\n",
    "    if (len(this.__children) != 0 and this.__children != None):\n",
    "      maxLength: int = 1\n",
    "      for child in this.__children:\n",
    "          maxLength += len(child)\n",
    "      return maxLength\n",
    "    else:\n",
    "      return 1\n",
    "  def __str__(this) -> str:\n",
    "    return f\"Node({this.value})\""
   ]
  },
  {
   "cell_type": "code",
   "execution_count": 15,
   "metadata": {},
   "outputs": [],
   "source": [
    "def node_to_string(node: Node, islast=False):\n",
    "  pretab = '' if node.get_depth() == 0 else ' ' * (node.get_depth())\n",
    "  prefix = f'{pretab}:{node.get_depth()} ───'\n",
    "  value = node.value\n",
    "  depthTab: str = ' ' * (node.get_depth() + 1)\n",
    "  children_str = ''\n",
    "  for child in node.get_children():\n",
    "    ischildlast = node.get_children()[-1] == child\n",
    "    children_str += f'{depthTab}{node_to_string(child, ischildlast)}'\n",
    "  return (\n",
    "      f'{prefix} {node.tag} = {value}\\n'\n",
    "      f'{children_str}'\n",
    "  )"
   ]
  },
  {
   "cell_type": "code",
   "execution_count": 16,
   "metadata": {},
   "outputs": [],
   "source": [
    "def evaluate(node: Node): \n",
    "  \"\"\"returns the value of the node\"\"\"\n",
    "  if(isinstance(node.value, float) or isinstance(node.value, int)):\n",
    "    assert node.value != None, \"Node must have a value\"\n",
    "    return node.value\n",
    "  elif(isinstance(node.value, str)):\n",
    "    raise NotImplementedError"
   ]
  },
  {
   "cell_type": "markdown",
   "metadata": {},
   "source": [
    "## Simple hill climbing algorithm"
   ]
  },
  {
   "cell_type": "code",
   "execution_count": 17,
   "metadata": {},
   "outputs": [],
   "source": [
    "from math import inf\n",
    "def hill_climbing(start_node) -> Node:\n",
    "  \"\"\"\n",
    "  Pseudo-code for the algorithm\n",
    "\n",
    "  ```\n",
    "  algorithm hill Climbing is\n",
    "      currentNode := startNode\n",
    "      loop do\n",
    "          L := NEIGHBORS(currentNode)\n",
    "          nextEval := −INF\n",
    "          nextNode := NULL\n",
    "          for all x in L do\n",
    "              if EVAL(x) > nextEval then\n",
    "                  nextNode := x\n",
    "                  nextEval := EVAL(x)\n",
    "          if nextEval ≤ EVAL(currentNode) then\n",
    "              // Return current node since no better neighbors exist\n",
    "              return currentNode\n",
    "          currentNode := nextNode\n",
    "  ```\n",
    "  \"\"\"\n",
    "  current_node = start_node\n",
    "  best_value = -inf\n",
    "  best_node = None\n",
    "  while True:\n",
    "    current_value = evaluate(current_node)\n",
    "    if current_value > best_value:\n",
    "      best_node = current_node\n",
    "      best_value = current_value\n",
    "    else:\n",
    "      # this node has a value smaller than the best node.\n",
    "      # stopping search with local maxima\n",
    "      return best_node\n",
    "    childrens = current_node.get_children()\n",
    "    for child in childrens:\n",
    "      child_value = evaluate(child)\n",
    "      if child_value > best_value:\n",
    "        best_value = child_value\n",
    "        best_node = child\n",
    "      else:\n",
    "        return best_node\n",
    "      # every neighbour of this child is traversed.\n",
    "      # Setting current_node as the last child traversed\n",
    "      current_node = child\n"
   ]
  },
  {
   "cell_type": "markdown",
   "metadata": {},
   "source": [
    "![Tree](https://i.stack.imgur.com/ujh8Z.png)"
   ]
  },
  {
   "cell_type": "code",
   "execution_count": 18,
   "metadata": {},
   "outputs": [],
   "source": [
    "# implemented the above tree of nodes\n",
    "tree1: Node = Node(\n",
    "    value=10, tag='a',\n",
    "    children=[\n",
    "        Node(\n",
    "            value=10, tag='b',\n",
    "            children=[\n",
    "                Node(value=4, tag='d'),\n",
    "                Node(value=2, tag='c',\n",
    "                     child=Node(value=0, tag='h')\n",
    "                ),\n",
    "            ]\n",
    "        ),\n",
    "        Node(value=8, tag='j', \n",
    "            child=Node(value=0, tag='k')\n",
    "        ),\n",
    "        Node(value=7, tag='f',\n",
    "            children=[\n",
    "                Node(value=5, tag='e', \n",
    "                    child=Node(\n",
    "                        value=6, tag='i', \n",
    "                        child=Node(value=0, tag='k')\n",
    "                    )\n",
    "                ),\n",
    "                Node(value=3, tag='g')\n",
    "            ]\n",
    "        )\n",
    "    ]\n",
    ")\n"
   ]
  },
  {
   "cell_type": "code",
   "execution_count": 19,
   "metadata": {},
   "outputs": [],
   "source": [
    "# implemented an another tree of nodes\n",
    "tree2: Node = Node(\n",
    "    value=2, tag='a',\n",
    "    children=[\n",
    "        Node(\n",
    "            value=4, tag='b',\n",
    "            children=[\n",
    "                Node(value=5, tag='d'),\n",
    "                Node(value=6, tag='c',\n",
    "                     child=Node(value=8, tag='h')\n",
    "                ),\n",
    "            ]\n",
    "        ),\n",
    "        Node(value=9, tag='j', \n",
    "            child=Node(value=0, tag='k')\n",
    "        ),\n",
    "        Node(value=7, tag='f',\n",
    "            children=[\n",
    "                Node(value=12, tag='e', \n",
    "                    child=Node(\n",
    "                        value=6, tag='i', \n",
    "                        child=Node(value=0, tag='k')\n",
    "                    )\n",
    "                ),\n",
    "                Node(value=3, tag='g')\n",
    "            ]\n",
    "        )\n",
    "    ]\n",
    ")\n"
   ]
  },
  {
   "cell_type": "code",
   "execution_count": 20,
   "metadata": {},
   "outputs": [
    {
     "name": "stdout",
     "output_type": "stream",
     "text": [
      "Tree - 1: representation\n",
      "pattern -> :<depth> ─── <value>\n",
      "\n",
      ":0 ─── a = 10\n",
      "  :1 ─── b = 10\n",
      "    :2 ─── d = 4\n",
      "    :2 ─── c = 2\n",
      "      :3 ─── h = 0\n",
      "  :1 ─── j = 8\n",
      "    :2 ─── k = 0\n",
      "  :1 ─── f = 7\n",
      "    :2 ─── e = 5\n",
      "      :3 ─── i = 6\n",
      "        :4 ─── k = 0\n",
      "    :2 ─── g = 3\n",
      "\n"
     ]
    }
   ],
   "source": [
    "print('Tree - 1: representation')\n",
    "print('pattern -> :<depth> ─── <value>', end='\\n\\n')\n",
    "print(node_to_string(tree1))"
   ]
  },
  {
   "cell_type": "code",
   "execution_count": 21,
   "metadata": {},
   "outputs": [
    {
     "name": "stdout",
     "output_type": "stream",
     "text": [
      "Tree - 2: representation\n",
      "pattern -> :<depth> ─── <value>\n",
      "\n",
      ":0 ─── a = 2\n",
      "  :1 ─── b = 4\n",
      "    :2 ─── d = 5\n",
      "    :2 ─── c = 6\n",
      "      :3 ─── h = 8\n",
      "  :1 ─── j = 9\n",
      "    :2 ─── k = 0\n",
      "  :1 ─── f = 7\n",
      "    :2 ─── e = 12\n",
      "      :3 ─── i = 6\n",
      "        :4 ─── k = 0\n",
      "    :2 ─── g = 3\n",
      "\n"
     ]
    }
   ],
   "source": [
    "print('Tree - 2: representation')\n",
    "print('pattern -> :<depth> ─── <value>', end='\\n\\n')\n",
    "print(node_to_string(tree2))"
   ]
  },
  {
   "cell_type": "code",
   "execution_count": 22,
   "metadata": {},
   "outputs": [
    {
     "name": "stdout",
     "output_type": "stream",
     "text": [
      "For Tree - 1\n",
      "Best solution is 10 with tag a\n"
     ]
    }
   ],
   "source": [
    "print('For Tree - 1')\n",
    "best_solution = hill_climbing(tree1)\n",
    "print(f\"Best solution is {best_solution.value} with tag {best_solution.tag}\")"
   ]
  },
  {
   "cell_type": "code",
   "execution_count": 23,
   "metadata": {},
   "outputs": [
    {
     "name": "stdout",
     "output_type": "stream",
     "text": [
      "For Tree - 2\n",
      "Best solution is 9 with tag j\n"
     ]
    }
   ],
   "source": [
    "print('For Tree - 2')\n",
    "best_solution = hill_climbing(tree2)\n",
    "print(f\"Best solution is {best_solution.value} with tag {best_solution.tag}\")"
   ]
  }
 ],
 "metadata": {
  "kernelspec": {
   "display_name": "Python 3.10.6 64-bit",
   "language": "python",
   "name": "python3"
  },
  "language_info": {
   "codemirror_mode": {
    "name": "ipython",
    "version": 3
   },
   "file_extension": ".py",
   "mimetype": "text/x-python",
   "name": "python",
   "nbconvert_exporter": "python",
   "pygments_lexer": "ipython3",
   "version": "3.10.6"
  },
  "orig_nbformat": 4,
  "vscode": {
   "interpreter": {
    "hash": "aee8b7b246df8f9039afb4144a1f6fd8d2ca17a180786b69acc140d282b71a49"
   }
  }
 },
 "nbformat": 4,
 "nbformat_minor": 2
}
